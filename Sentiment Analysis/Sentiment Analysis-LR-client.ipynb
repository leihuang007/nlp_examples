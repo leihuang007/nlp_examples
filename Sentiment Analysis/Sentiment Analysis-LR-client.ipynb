{
 "cells": [
  {
   "cell_type": "code",
   "execution_count": null,
   "metadata": {},
   "outputs": [],
   "source": [
    "import pickle"
   ]
  },
  {
   "cell_type": "code",
   "execution_count": null,
   "metadata": {},
   "outputs": [],
   "source": [
    "vectorizer = pickle.load(open('./sentiment-analysis-lr-vocabulary.pkl', 'rb'))\n",
    "model      = pickle.load(open('./sentiment-analysis-lr-model.pkl', 'rb'))"
   ]
  },
  {
   "cell_type": "code",
   "execution_count": null,
   "metadata": {},
   "outputs": [],
   "source": [
    "sentence = \"@VirginAmerica plus you've added commercials to the experience... tacky.\"\n",
    "model.predict(vectorizer.transform([sentence]))"
   ]
  }
 ],
 "metadata": {
  "kernelspec": {
   "display_name": "Python 3.8.2 ('venv': venv)",
   "language": "python",
   "name": "python3"
  },
  "language_info": {
   "codemirror_mode": {
    "name": "ipython",
    "version": 3
   },
   "file_extension": ".py",
   "mimetype": "text/x-python",
   "name": "python",
   "nbconvert_exporter": "python",
   "pygments_lexer": "ipython3",
   "version": "3.8.2"
  },
  "orig_nbformat": 4,
  "vscode": {
   "interpreter": {
    "hash": "44c28d52d013e1a5fec0bb8a00e89bb085e136f6ed5c703d718fbbf21afc40dc"
   }
  }
 },
 "nbformat": 4,
 "nbformat_minor": 2
}
