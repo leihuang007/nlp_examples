{
 "cells": [
  {
   "cell_type": "code",
   "execution_count": 1,
   "metadata": {},
   "outputs": [],
   "source": [
    "import nltk\n",
    "from nltk.stem import PorterStemmer"
   ]
  },
  {
   "cell_type": "code",
   "execution_count": 2,
   "metadata": {},
   "outputs": [],
   "source": [
    "porter = PorterStemmer()"
   ]
  },
  {
   "cell_type": "code",
   "execution_count": 3,
   "metadata": {},
   "outputs": [
    {
     "name": "stdout",
     "output_type": "stream",
     "text": [
      "walk\n",
      "walk\n",
      "walk\n",
      "ran\n",
      "run\n",
      "boss\n",
      "replac\n",
      "unnecessari\n",
      "berri\n",
      "mice\n",
      "is\n",
      "wa\n",
      "better\n"
     ]
    }
   ],
   "source": [
    "words_list = ['walking', 'walked', 'walks', 'ran', 'running', 'bosses', 'replacement', 'unnecessary', 'berry', 'mice', 'is', 'was', 'better']\n",
    "\n",
    "for _ in words_list:\n",
    "    print(porter.stem(_))"
   ]
  },
  {
   "cell_type": "code",
   "execution_count": 4,
   "metadata": {},
   "outputs": [
    {
     "name": "stdout",
     "output_type": "stream",
     "text": [
      "lemmat is more sophist than stem "
     ]
    }
   ],
   "source": [
    "sentence = \"Lemmatization is more sophisticated than stemming\".split()\n",
    "for _ in sentence:\n",
    "    print(porter.stem(_), end=\" \")"
   ]
  },
  {
   "cell_type": "code",
   "execution_count": 5,
   "metadata": {},
   "outputs": [
    {
     "name": "stderr",
     "output_type": "stream",
     "text": [
      "[nltk_data] Error loading wordnet: <urlopen error [Errno 61]\n",
      "[nltk_data]     Connection refused>\n",
      "[nltk_data] Error loading omw-1.4: <urlopen error [Errno 61]\n",
      "[nltk_data]     Connection refused>\n"
     ]
    }
   ],
   "source": [
    "from nltk.stem import WordNetLemmatizer\n",
    "nltk.download(\"wordnet\")\n",
    "nltk.download('omw-1.4')\n",
    "from nltk.corpus import wordnet"
   ]
  },
  {
   "cell_type": "code",
   "execution_count": 6,
   "metadata": {},
   "outputs": [],
   "source": [
    "lemmatizer = WordNetLemmatizer()"
   ]
  },
  {
   "cell_type": "code",
   "execution_count": 7,
   "metadata": {},
   "outputs": [
    {
     "name": "stdout",
     "output_type": "stream",
     "text": [
      "walking-->walking\n",
      "walked-->walked\n",
      "walks-->walk\n",
      "ran-->ran\n",
      "running-->running\n",
      "bosses-->boss\n",
      "replacement-->replacement\n",
      "unnecessary-->unnecessary\n",
      "berry-->berry\n",
      "mice-->mouse\n",
      "is-->is\n",
      "was-->wa\n",
      "better-->better\n"
     ]
    }
   ],
   "source": [
    "for _ in words_list:\n",
    "    print(_+\"-->\"+lemmatizer.lemmatize(word=_))\n",
    "    # print(_)"
   ]
  },
  {
   "cell_type": "code",
   "execution_count": 8,
   "metadata": {},
   "outputs": [
    {
     "name": "stdout",
     "output_type": "stream",
     "text": [
      "walking-->walk\n",
      "walked-->walk\n",
      "walks-->walk\n",
      "ran-->run\n",
      "running-->run\n",
      "bosses-->boss\n",
      "replacement-->replacement\n",
      "unnecessary-->unnecessary\n",
      "berry-->berry\n",
      "mice-->mice\n",
      "is-->be\n",
      "was-->be\n",
      "better-->better\n"
     ]
    }
   ],
   "source": [
    "for _ in words_list:\n",
    "    print(_+\"-->\"+lemmatizer.lemmatize(word=_, pos=wordnet.VERB))\n",
    "    # print(_)"
   ]
  },
  {
   "cell_type": "code",
   "execution_count": 9,
   "metadata": {},
   "outputs": [
    {
     "name": "stderr",
     "output_type": "stream",
     "text": [
      "[nltk_data] Error loading averaged_perceptron_tagger: <urlopen error\n",
      "[nltk_data]     [Errno 61] Connection refused>\n"
     ]
    },
    {
     "data": {
      "text/plain": [
       "False"
      ]
     },
     "execution_count": 9,
     "metadata": {},
     "output_type": "execute_result"
    }
   ],
   "source": [
    "nltk.download(\"averaged_perceptron_tagger\")"
   ]
  },
  {
   "cell_type": "code",
   "execution_count": 10,
   "metadata": {},
   "outputs": [],
   "source": [
    "def get_wordnet_pos(treebank_tag:str):\n",
    "    if treebank_tag.startswith('J'):\n",
    "        return wordnet.ADJ\n",
    "    elif treebank_tag.startswith('V'):\n",
    "        return wordnet.VERB\n",
    "    elif treebank_tag.startswith('N'):\n",
    "        return wordnet.NOUN\n",
    "    elif treebank_tag.startswith('R'):\n",
    "        return wordnet.ADV\n",
    "    else:\n",
    "        return wordnet.NOUN"
   ]
  },
  {
   "cell_type": "code",
   "execution_count": 11,
   "metadata": {},
   "outputs": [],
   "source": [
    "sentence = \"Donald Trump has a devoted following\".split()"
   ]
  },
  {
   "cell_type": "code",
   "execution_count": 12,
   "metadata": {},
   "outputs": [
    {
     "data": {
      "text/plain": [
       "[('walking', 'VBG'),\n",
       " ('walked', 'VBD'),\n",
       " ('walks', 'NNS'),\n",
       " ('ran', 'VBD'),\n",
       " ('running', 'VBG'),\n",
       " ('bosses', 'NNS'),\n",
       " ('replacement', 'NN'),\n",
       " ('unnecessary', 'JJ'),\n",
       " ('berry', 'NN'),\n",
       " ('mice', 'NN'),\n",
       " ('is', 'VBZ'),\n",
       " ('was', 'VBD'),\n",
       " ('better', 'RBR')]"
      ]
     },
     "execution_count": 12,
     "metadata": {},
     "output_type": "execute_result"
    }
   ],
   "source": [
    "words_and_tags = nltk.pos_tag(words_list)\n",
    "words_and_tags"
   ]
  },
  {
   "cell_type": "code",
   "execution_count": 13,
   "metadata": {},
   "outputs": [
    {
     "name": "stdout",
     "output_type": "stream",
     "text": [
      "walk walk walk run run boss replacement unnecessary berry mouse be be well "
     ]
    }
   ],
   "source": [
    "for word, tag in words_and_tags:\n",
    "    lemma = lemmatizer.lemmatize(word, pos=get_wordnet_pos(tag))\n",
    "    print(lemma, end=\" \")\n"
   ]
  }
 ],
 "metadata": {
  "kernelspec": {
   "display_name": "Python 3.8.2 ('venv': venv)",
   "language": "python",
   "name": "python3"
  },
  "language_info": {
   "codemirror_mode": {
    "name": "ipython",
    "version": 3
   },
   "file_extension": ".py",
   "mimetype": "text/x-python",
   "name": "python",
   "nbconvert_exporter": "python",
   "pygments_lexer": "ipython3",
   "version": "3.8.2"
  },
  "orig_nbformat": 4,
  "vscode": {
   "interpreter": {
    "hash": "44c28d52d013e1a5fec0bb8a00e89bb085e136f6ed5c703d718fbbf21afc40dc"
   }
  }
 },
 "nbformat": 4,
 "nbformat_minor": 2
}
